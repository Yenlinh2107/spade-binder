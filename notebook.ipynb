{
  "cells": [
    {
      "cell_type": "code",
      "execution_count": null,
      "metadata": {},
      "outputs": [],
      "source": [
        "import os\n",
        "import subprocess\n",
        "\n",
        "# Đường dẫn file FASTQ\n",
        "left_reads = \"/home/reads_1.fastq.gz\"\n",
        "right_reads = \"/home/reads_2.fastq.gz\"\n",
        "output_dir = \"/home/spades_output\"\n",
        "\n",
        "# Tạo thư mục đầu ra nếu chưa có\n",
        "os.makedirs(output_dir, exist_ok=True)\n",
        "\n",
        "# Chạy SPAdes\n",
        "command = f\"spades.py -1 {left_reads} -2 {right_reads} -o {output_dir} -t 4 -m 8\"\n",
        "subprocess.run(command, shell=True)\n",
        "\n",
        "print(\"SPAdes đã chạy xong! Kết quả lưu tại:\", output_dir)"
      ]
    }
  ],
  "metadata": {
    "kernelspec": {
      "display_name": "Python 3",
      "language": "python",
      "name": "python3"
    },
    "language_info": {
      "codemirror_mode": {
        "name": "ipython",
        "version": 3
      },
      "file_extension": ".py",
      "mimetype": "text/x-python",
      "name": "python",
      "nbconvert_exporter": "python",
      "pygments_lexer": "ipython3",
      "version": "3.8.10"
    }
  },
  "nbformat": 4,
  "nbformat_minor": 4
}
